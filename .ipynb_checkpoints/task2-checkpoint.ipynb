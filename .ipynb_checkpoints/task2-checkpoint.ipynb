{
 "cells": [
  {
   "cell_type": "code",
   "execution_count": 2,
   "metadata": {},
   "outputs": [],
   "source": [
    "from selenium.webdriver import Chrome\n",
    "import pandas as pd\n",
    "\n",
    "webdriver = \"C:\\chromeDriver\\chromedriver.exe\"\n",
    "\n",
    "driver = Chrome(webdriver)\n",
    "\n",
    "driver.get(\"https://uefa.com/uefachampionsleague/season=2020/clubs/player=250024456/index.html\")\n",
    "\n",
    "elements = len(driver.find_elements_by_css_selector(\".player--statistics--list .field\"))\n",
    "\n",
    "\n",
    "total = []\n",
    "statisticsListBlock = driver.find_element_by_class_name(\"player--statistics--list\")\n",
    "fields = statisticsListBlock.find_elements_by_css_selector(\".player--statistics--list .field\")\n",
    "\n",
    "for field in fields:\n",
    "    label = field.find_element_by_class_name(\"statistics--list--label\").text\n",
    "    data = field.find_element_by_class_name(\"statistics--list--data\").text\n",
    "    new = ((label,data))\n",
    "    total.append(new)\n",
    "    df = pd.DataFrame(total,columns=['label','data'])\n",
    "    df.to_csv('task2.csv')              \n",
    "\n",
    "driver.close()"
   ]
  },
  {
   "cell_type": "code",
   "execution_count": null,
   "metadata": {},
   "outputs": [],
   "source": []
  },
  {
   "cell_type": "code",
   "execution_count": null,
   "metadata": {},
   "outputs": [],
   "source": []
  }
 ],
 "metadata": {
  "kernelspec": {
   "display_name": "Python 3",
   "language": "python",
   "name": "python3"
  },
  "language_info": {
   "codemirror_mode": {
    "name": "ipython",
    "version": 3
   },
   "file_extension": ".py",
   "mimetype": "text/x-python",
   "name": "python",
   "nbconvert_exporter": "python",
   "pygments_lexer": "ipython3",
   "version": "3.8.0"
  }
 },
 "nbformat": 4,
 "nbformat_minor": 2
}
