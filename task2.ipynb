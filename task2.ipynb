{
 "cells": [
  {
   "cell_type": "code",
   "execution_count": 26,
   "metadata": {},
   "outputs": [
    {
     "name": "stdout",
     "output_type": "stream",
     "text": [
      "GOALS\n",
      "2\n",
      "SAVES\n",
      "0\n",
      "OFFSIDES\n",
      "8\n",
      "GOALS\n",
      "2\n",
      "ASSISTS\n",
      "0\n",
      "SAVES\n",
      "0\n",
      "FOULS COMMITTED\n",
      "8\n",
      "MINUTES PLAYED\n",
      "380\n",
      "PLAYED\n",
      "5\n",
      "CARDS\n",
      "1 0\n"
     ]
    }
   ],
   "source": [
    "from selenium import webdriver\n",
    "\n",
    "driver = webdriver.Chrome()\n",
    "\n",
    "driver.get(\"https://uefa.com/uefachampionsleague/season=2020/clubs/player=250024456/index.html\")\n",
    "\n",
    "elements = len(driver.find_elements_by_css_selector(\".player--statistics--list .field\"))\n",
    "\n",
    "\n",
    "\n",
    "statisticsListBlock = driver.find_element_by_class_name(\"player--statistics--list\")\n",
    "fields = statisticsListBlock.find_elements_by_css_selector(\".player--statistics--list .field\")\n",
    "\n",
    "for field in fields:\n",
    "    label = field.find_element_by_class_name(\"statistics--list--label\").text\n",
    "    data = field.find_element_by_class_name(\"statistics--list--data\").text\n",
    "    print(label)\n",
    "    print(data)               \n",
    "\n",
    "driver.close()"
   ]
  },
  {
   "cell_type": "code",
   "execution_count": null,
   "metadata": {},
   "outputs": [],
   "source": []
  },
  {
   "cell_type": "code",
   "execution_count": null,
   "metadata": {},
   "outputs": [],
   "source": []
  }
 ],
 "metadata": {
  "kernelspec": {
   "display_name": "Python 3",
   "language": "python",
   "name": "python3"
  },
  "language_info": {
   "codemirror_mode": {
    "name": "ipython",
    "version": 3
   },
   "file_extension": ".py",
   "mimetype": "text/x-python",
   "name": "python",
   "nbconvert_exporter": "python",
   "pygments_lexer": "ipython3",
   "version": "3.8.0"
  }
 },
 "nbformat": 4,
 "nbformat_minor": 2
}
