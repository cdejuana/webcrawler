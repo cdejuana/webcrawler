{
 "cells": [
  {
   "cell_type": "code",
   "execution_count": 88,
   "metadata": {},
   "outputs": [],
   "source": [
    "from selenium import webdriver\n",
    "from selenium.webdriver.chrome.options import Options\n",
    "import pandas as pd\n",
    "import numpy as np \n",
    "options = Options() \n",
    "\n",
    "options.add_experimental_option(\"prefs\", {})\n",
    "# options.add_argument(\"--headless\") ## Abrirlo en modo fantasma\n",
    "driver = webdriver.Chrome(options=options, executable_path=r\"C:\\chromeDriver\\chromedriver3.exe\")\n",
    "\n",
    "driver.get(\"https://uefa.com/uefachampionsleague/season=2020/clubs/player=250024456/index.html\")\n",
    "\n",
    "elements = len(driver.find_elements_by_css_selector(\".player--statistics--list .field\"))\n",
    "\n",
    "\n",
    "statisticsListBlock = driver.find_element_by_class_name(\"player--statistics--list\")\n",
    "fields = statisticsListBlock.find_elements_by_css_selector(\".player--statistics--list .field\")\n",
    "\n",
    "columns = []\n",
    "data = []\n",
    "for field in fields:\n",
    "    columns.append(field.find_element_by_class_name(\"statistics--list--label\").text)\n",
    "    data.append(field.find_element_by_class_name(\"statistics--list--data\").text)             \n",
    "driver.close()"
   ]
  },
  {
   "cell_type": "code",
   "execution_count": 91,
   "metadata": {},
   "outputs": [],
   "source": [
    "df = pd.DataFrame(np.reshape(data, (1,len(data))),columns=columns)"
   ]
  },
  {
   "cell_type": "code",
   "execution_count": 92,
   "metadata": {},
   "outputs": [
    {
     "data": {
      "text/html": [
       "<div>\n",
       "<style scoped>\n",
       "    .dataframe tbody tr th:only-of-type {\n",
       "        vertical-align: middle;\n",
       "    }\n",
       "\n",
       "    .dataframe tbody tr th {\n",
       "        vertical-align: top;\n",
       "    }\n",
       "\n",
       "    .dataframe thead th {\n",
       "        text-align: right;\n",
       "    }\n",
       "</style>\n",
       "<table border=\"1\" class=\"dataframe\">\n",
       "  <thead>\n",
       "    <tr style=\"text-align: right;\">\n",
       "      <th></th>\n",
       "      <th>GOALS</th>\n",
       "      <th>SAVES</th>\n",
       "      <th>OFFSIDES</th>\n",
       "      <th>MINUTES PLAYED</th>\n",
       "      <th>GOALS CONCEDED</th>\n",
       "      <th>PLAYED</th>\n",
       "      <th>GOALS</th>\n",
       "      <th>ASSISTS</th>\n",
       "      <th>SAVES</th>\n",
       "      <th>FOULS COMMITTED</th>\n",
       "      <th>MINUTES PLAYED</th>\n",
       "      <th>PLAYED</th>\n",
       "      <th>CARDS</th>\n",
       "    </tr>\n",
       "  </thead>\n",
       "  <tbody>\n",
       "    <tr>\n",
       "      <td>0</td>\n",
       "      <td>2</td>\n",
       "      <td>0</td>\n",
       "      <td>8</td>\n",
       "      <td>380</td>\n",
       "      <td>0</td>\n",
       "      <td>5</td>\n",
       "      <td>2</td>\n",
       "      <td>0</td>\n",
       "      <td>0</td>\n",
       "      <td>8</td>\n",
       "      <td>380</td>\n",
       "      <td>5</td>\n",
       "      <td>1 0</td>\n",
       "    </tr>\n",
       "  </tbody>\n",
       "</table>\n",
       "</div>"
      ],
      "text/plain": [
       "  GOALS SAVES OFFSIDES MINUTES PLAYED GOALS CONCEDED PLAYED GOALS ASSISTS  \\\n",
       "0     2     0        8            380              0      5     2       0   \n",
       "\n",
       "  SAVES FOULS COMMITTED MINUTES PLAYED PLAYED CARDS  \n",
       "0     0               8            380      5   1 0  "
      ]
     },
     "execution_count": 92,
     "metadata": {},
     "output_type": "execute_result"
    }
   ],
   "source": [
    "df"
   ]
  },
  {
   "cell_type": "code",
   "execution_count": null,
   "metadata": {},
   "outputs": [],
   "source": []
  }
 ],
 "metadata": {
  "kernelspec": {
   "display_name": "Python 3",
   "language": "python",
   "name": "python3"
  },
  "language_info": {
   "codemirror_mode": {
    "name": "ipython",
    "version": 3
   },
   "file_extension": ".py",
   "mimetype": "text/x-python",
   "name": "python",
   "nbconvert_exporter": "python",
   "pygments_lexer": "ipython3",
   "version": "3.7.4"
  }
 },
 "nbformat": 4,
 "nbformat_minor": 2
}
