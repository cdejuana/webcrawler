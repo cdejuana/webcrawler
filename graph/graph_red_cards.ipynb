{
 "cells": [
  {
   "cell_type": "code",
   "execution_count": 21,
   "metadata": {},
   "outputs": [],
   "source": [
    "from pymongo import MongoClient\n",
    "import matplotlib.pyplot as plt\n",
    "import numpy\n",
    "import pandas as pd\n",
    "\n",
    "# mongo configuration\n",
    "myclient = MongoClient(\"mongodb://localhost:27017/\")\n",
    "mydb = myclient[\"uefa\"]\n",
    "mycol = mydb[\"players\"]\n",
    "\n",
    "#All of teams with red cards\n",
    "total = [{}]\n",
    "#Name of teams\n",
    "teams = [{}]\n",
    "#Amount of red cards the team has\n",
    "score ={}\n",
    "\n",
    "#returns team names\n",
    "for item in mycol.find({},{ \"_id\" : 0, \"team\": 1}):\n",
    "    teams.append(item)\n",
    "    \n",
    "#returns team names and red cards    \n",
    "for item in mycol.find({},{ \"_id\" : 0, \"team\": 1, \"red cards\" : 1}):\n",
    "    total.append(item)"
   ]
  },
  {
   "cell_type": "code",
   "execution_count": 22,
   "metadata": {},
   "outputs": [],
   "source": [
    "#counter\n",
    "i=0\n",
    "\n",
    "for row in total:\n",
    "    for item in row:\n",
    "        #If the team name matches in both dics and is not empty\n",
    "        if row[\"team\"]==teams[i][\"team\"] and row[\"team\"]!='' and isinstance(row[\"red cards\"], int):\n",
    "            #Team name variable\n",
    "            team_name=row[\"team\"]\n",
    "            #If the team name exists\n",
    "            if team_name in score:\n",
    "                #Because of the fors, the number is divided by two\n",
    "                score[team_name]+=row[\"red cards\"]/2\n",
    "            else:\n",
    "                score[team_name]=row[\"red cards\"]/2\n",
    "    i=i+1"
   ]
  },
  {
   "cell_type": "code",
   "execution_count": 23,
   "metadata": {},
   "outputs": [],
   "source": [
    "#number is rounded, so it parses to int from float, this value is ready for pie chart\n",
    "#print(round(score[\"TEAMNAME\"])) #for example Atalanta BC"
   ]
  },
  {
   "cell_type": "code",
   "execution_count": null,
   "metadata": {},
   "outputs": [],
   "source": [
    "#creating a panda dataframe for the pie chart\n",
    "df=pd.DataFrame(score.items(), columns=['Team Name', 'Num of cards'])\n",
    "\n",
    "#function to round up number of cards\n",
    "def absolute_value(val):\n",
    "    \n",
    "    a  = numpy.round(val/100.*df['Num of cards'].sum(), 0)\n",
    "    return a\n",
    "\n",
    "\n",
    "plt.pie(\n",
    "    #the values are number of cards\n",
    "    df['Num of cards'],\n",
    "    # with the labels being team names\n",
    "    labels=df['Team Name'],\n",
    "    #this prints the number of cards to pie chart\n",
    "    autopct=absolute_value\n",
    "    )\n",
    "\n",
    "# View the plot\n",
    "plt.tight_layout()\n",
    "plt.show()"
   ]
  },
  {
   "cell_type": "code",
   "execution_count": null,
   "metadata": {},
   "outputs": [],
   "source": []
  }
 ],
 "metadata": {
  "kernelspec": {
   "display_name": "Python 3",
   "language": "python",
   "name": "python3"
  },
  "language_info": {
   "codemirror_mode": {
    "name": "ipython",
    "version": 3
   },
   "file_extension": ".py",
   "mimetype": "text/x-python",
   "name": "python",
   "nbconvert_exporter": "python",
   "pygments_lexer": "ipython3",
   "version": "3.7.5"
  }
 },
 "nbformat": 4,
 "nbformat_minor": 4
}
