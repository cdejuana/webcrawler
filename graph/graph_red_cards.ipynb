{
 "cells": [
  {
   "cell_type": "code",
   "execution_count": 1,
   "metadata": {},
   "outputs": [],
   "source": [
    "from pymongo import MongoClient\n",
    "\n",
    "# mongo configuration\n",
    "myclient = MongoClient(\"mongodb://localhost:27017/\")\n",
    "mydb = myclient[\"uefa\"]\n",
    "mycol = mydb[\"players\"]\n",
    "\n",
    "#All of teams with red cards\n",
    "total = [{}]\n",
    "#Name of teams\n",
    "teams = [{}]\n",
    "#Amount of red cards the team has\n",
    "score ={}\n",
    "\n",
    "#returns team names\n",
    "for item in mycol.find({},{ \"_id\" : 0, \"team\": 1}):\n",
    "    teams.append(item)\n",
    "    \n",
    "#returns team names and red cards    \n",
    "for item in mycol.find({},{ \"_id\" : 0, \"team\": 1, \"red cards\" : 1}):\n",
    "    total.append(item)"
   ]
  },
  {
   "cell_type": "code",
   "execution_count": 2,
   "metadata": {},
   "outputs": [],
   "source": [
    "#counter\n",
    "i=0\n",
    "\n",
    "for row in total:\n",
    "    for item in row:\n",
    "        #If the team name matches in both dics and is not empty\n",
    "        if row[\"team\"]==teams[i][\"team\"] and row[\"team\"]!='':\n",
    "            #Team name variable\n",
    "            team_name=row[\"team\"]\n",
    "            #If the team name exists\n",
    "            if team_name in score:\n",
    "                #Because of the fors, the number is divided by two\n",
    "                score[team_name]+=row[\"red cards\"]/2\n",
    "            else:\n",
    "                score[team_name]=row[\"red cards\"]/2\n",
    "    i=i+1"
   ]
  },
  {
   "cell_type": "code",
   "execution_count": 4,
   "metadata": {},
   "outputs": [
    {
     "ename": "KeyError",
     "evalue": "'Club Atlético de Madrid'",
     "output_type": "error",
     "traceback": [
      "\u001b[0;31m---------------------------------------------------------------------------\u001b[0m",
      "\u001b[0;31mKeyError\u001b[0m                                  Traceback (most recent call last)",
      "\u001b[0;32m<ipython-input-4-daff602700b7>\u001b[0m in \u001b[0;36m<module>\u001b[0;34m\u001b[0m\n\u001b[0;32m----> 1\u001b[0;31m \u001b[0mprint\u001b[0m\u001b[0;34m(\u001b[0m\u001b[0mround\u001b[0m\u001b[0;34m(\u001b[0m\u001b[0mscore\u001b[0m\u001b[0;34m[\u001b[0m\u001b[0;34m\"Club Atlético de Madrid\"\u001b[0m\u001b[0;34m]\u001b[0m\u001b[0;34m)\u001b[0m\u001b[0;34m)\u001b[0m\u001b[0;34m\u001b[0m\u001b[0;34m\u001b[0m\u001b[0m\n\u001b[0m",
      "\u001b[0;31mKeyError\u001b[0m: 'Club Atlético de Madrid'"
     ]
    }
   ],
   "source": [
    "#number is rounded, so it parses to int from float, this value is ready for pie chart\n",
    "print(round(score[\"TEAMNAME\"])) #for example Atalanta BC"
   ]
  },
  {
   "cell_type": "code",
   "execution_count": null,
   "metadata": {},
   "outputs": [],
   "source": []
  }
 ],
 "metadata": {
  "kernelspec": {
   "display_name": "Python 3",
   "language": "python",
   "name": "python3"
  },
  "language_info": {
   "codemirror_mode": {
    "name": "ipython",
    "version": 3
   },
   "file_extension": ".py",
   "mimetype": "text/x-python",
   "name": "python",
   "nbconvert_exporter": "python",
   "pygments_lexer": "ipython3",
   "version": "3.7.5"
  }
 },
 "nbformat": 4,
 "nbformat_minor": 4
}
