{
 "cells": [
  {
   "cell_type": "code",
   "execution_count": null,
   "metadata": {},
   "outputs": [],
   "source": [
    "import matplotlib.pyplot as plt\n",
    "import numpy\n",
    "import pandas as pd\n",
    "\n",
    "#creating a panda dataframe for the pie chart\n",
    "df=pd.DataFrame(score.items(), columns=['Team Name', 'Num of cards'])\n",
    "\n",
    "#function to round up number of cards\n",
    "def absolute_value(val):\n",
    "    a  = numpy.round(val/100.*df['Num of cards'].sum(), 0)\n",
    "    return a\n",
    "\n",
    "\n",
    "plt.pie(\n",
    "    #the values are number of cards\n",
    "    df['Num of cards'],\n",
    "    # with the labels being team names\n",
    "    labels=df['Team Name'],\n",
    "    #this prints the number of cards to pie chart\n",
    "    autopct=absolute_value\n",
    "    )\n",
    "\n",
    "# View the plot\n",
    "plt.tight_layout()\n",
    "plt.show()"
   ]
  }
 ],
 "metadata": {
  "kernelspec": {
   "display_name": "Python 3",
   "language": "python",
   "name": "python3"
  },
  "language_info": {
   "codemirror_mode": {
    "name": "ipython",
    "version": 3
   },
   "file_extension": ".py",
   "mimetype": "text/x-python",
   "name": "python",
   "nbconvert_exporter": "python",
   "pygments_lexer": "ipython3",
   "version": "3.7.5"
  }
 },
 "nbformat": 4,
 "nbformat_minor": 4
}
