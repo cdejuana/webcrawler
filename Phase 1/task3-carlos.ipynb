{
 "cells": [
  {
   "cell_type": "code",
   "execution_count": 14,
   "metadata": {
    "scrolled": true
   },
   "outputs": [
    {
     "name": "stdout",
     "output_type": "stream",
     "text": [
      "        team matches played wins draws losses\n",
      "0     Bayern              6    6     0      0\n",
      "1  Tottenham              6    3     1      2\n",
      "2      Paris              6    5     1      0\n",
      "3  Man. City              6    4     2      0\n",
      "4   Salzburg              6    2     1      3\n"
     ]
    }
   ],
   "source": [
    "from selenium import webdriver\n",
    "import pandas as pd\n",
    "\n",
    "driver = webdriver.Chrome()\n",
    "\n",
    "driver.get(\"https://www.uefa.com/uefachampionsleague/season=2020/statistics/round=2001140/clubs/index.html\")\n",
    "\n",
    "table = driver.find_element_by_class_name(\"statmatch\")\n",
    "rows = table.find_elements_by_css_selector(\".statmatch tbody tr\")\n",
    "\n",
    "c = pd.DataFrame(columns=['team','matches played', 'wins', 'draws', 'losses'])\n",
    "cols = list(c)\n",
    "teamsStatistics = []\n",
    "\n",
    "for row in rows:\n",
    "    team = row.find_element_by_css_selector(\"td a\").text\n",
    "    matches = row.find_element_by_css_selector(\"td:nth-child(2)\").text\n",
    "    wins = row.find_element_by_css_selector(\"td:nth-child(3)\").text\n",
    "    draws = row.find_element_by_css_selector(\"td:nth-child(4)\").text\n",
    "    losses = row.find_element_by_css_selector(\"td:nth-child(5)\").text\n",
    "    new = ((team, matches, wins, draws, losses))\n",
    "    teamsStatistics.append(new)\n",
    "driver.close()\n",
    "\n",
    "teams_df = pd.DataFrame(teamsStatistics, columns=['team','matches played', 'wins', 'draws', 'losses'])\n",
    "\n",
    "print(teams_df.head())\n",
    "\n",
    "teams_df.to_csv('teams_statistics.csv')\n",
    "teams_df.to_json('teams_statistics.json')"
   ]
  },
  {
   "cell_type": "code",
   "execution_count": null,
   "metadata": {},
   "outputs": [],
   "source": []
  }
 ],
 "metadata": {
  "kernelspec": {
   "display_name": "Python 3",
   "language": "python",
   "name": "python3"
  },
  "language_info": {
   "codemirror_mode": {
    "name": "ipython",
    "version": 3
   },
   "file_extension": ".py",
   "mimetype": "text/x-python",
   "name": "python",
   "nbconvert_exporter": "python",
   "pygments_lexer": "ipython3",
   "version": "3.7.4"
  }
 },
 "nbformat": 4,
 "nbformat_minor": 2
}
