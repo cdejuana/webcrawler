{
 "cells": [
  {
   "cell_type": "code",
   "execution_count": 1,
   "metadata": {},
   "outputs": [],
   "source": [
    "from pymongo import MongoClient\n",
    "\n",
    "myclient = MongoClient(\"mongodb://localhost:27017/\")\n",
    "mydb = myclient[\"uefa\"]\n",
    "mycol = mydb[\"players\"]\n",
    "\n",
    "mylist = [\n",
    "  { \"player\": \"Raheem Sterling\", \"team\": \"Man. City\"},\n",
    "  { \"player\": \"Memphys Depay\", \"team\": \"Lyon\"},\n",
    "  { \"player\": \"Harry Kane\", \"team\": \"Tottenham\"},\n",
    "  { \"player\": \"Martin Terrier\", \"team\": \"Lyon\"},\n",
    "  { \"player\": \"Thomas Müller\", \"team\": \"Bayern\"},\n",
    "  { \"player\": \"Quincy Promes\", \"team\": \"Ajax\"},\n",
    "  { \"player\": \"David Neres\", \"team\": \"Ajax\"}\n",
    "]\n",
    "x = mycol.insert_many(mylist)"
   ]
  },
  {
   "cell_type": "code",
   "execution_count": null,
   "metadata": {},
   "outputs": [],
   "source": []
  },
  {
   "cell_type": "code",
   "execution_count": null,
   "metadata": {},
   "outputs": [],
   "source": []
  }
 ],
 "metadata": {
  "kernelspec": {
   "display_name": "Python 3",
   "language": "python",
   "name": "python3"
  },
  "language_info": {
   "codemirror_mode": {
    "name": "ipython",
    "version": 3
   },
   "file_extension": ".py",
   "mimetype": "text/x-python",
   "name": "python",
   "nbconvert_exporter": "python",
   "pygments_lexer": "ipython3",
   "version": "3.7.7"
  }
 },
 "nbformat": 4,
 "nbformat_minor": 4
}
