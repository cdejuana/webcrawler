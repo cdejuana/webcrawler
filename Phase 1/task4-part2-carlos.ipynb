{
 "cells": [
  {
   "cell_type": "code",
   "execution_count": 19,
   "metadata": {},
   "outputs": [
    {
     "name": "stdout",
     "output_type": "stream",
     "text": [
      "         Players:\n",
      "0   Memphys Depay\n",
      "1  Martin Terrier\n"
     ]
    }
   ],
   "source": [
    "from pprint import pprint\n",
    "from pymongo import MongoClient\n",
    "import pandas as pd\n",
    " \n",
    "def getPlayersByTeam(team):\n",
    "    myclient = MongoClient(\"mongodb://localhost:27017/\")\n",
    "    mydb = myclient[\"uefa\"]\n",
    "    mycol = mydb[\"players\"]\n",
    "    query = {\"team\" : team}\n",
    "    docs = mycol.find(query)\n",
    "    return docs\n",
    "\n",
    "team = \"Lyon\"\n",
    "players = getPlayersByTeam(team)\n",
    "\n",
    "playerList = []\n",
    "for player in players:\n",
    "    playerName = player[\"player\"]\n",
    "    new = ((playerName))\n",
    "    playerList.append(new)\n",
    "\n",
    "players_df = pd.DataFrame(playerList, columns=[\"Players:\"])\n",
    "\n",
    "print(players_df)"
   ]
  },
  {
   "cell_type": "code",
   "execution_count": null,
   "metadata": {},
   "outputs": [],
   "source": []
  },
  {
   "cell_type": "code",
   "execution_count": null,
   "metadata": {},
   "outputs": [],
   "source": []
  },
  {
   "cell_type": "code",
   "execution_count": null,
   "metadata": {},
   "outputs": [],
   "source": []
  }
 ],
 "metadata": {
  "kernelspec": {
   "display_name": "Python 3",
   "language": "python",
   "name": "python3"
  },
  "language_info": {
   "codemirror_mode": {
    "name": "ipython",
    "version": 3
   },
   "file_extension": ".py",
   "mimetype": "text/x-python",
   "name": "python",
   "nbconvert_exporter": "python",
   "pygments_lexer": "ipython3",
   "version": "3.7.7"
  }
 },
 "nbformat": 4,
 "nbformat_minor": 4
}
