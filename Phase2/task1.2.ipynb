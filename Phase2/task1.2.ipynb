{
 "cells": [
  {
   "cell_type": "code",
   "execution_count": null,
   "metadata": {},
   "outputs": [],
   "source": [
    "#moving the values from one array to dictionary for easier work\n",
    "for field in fields:\n",
    "    label = field.find_element_by_class_name(\"statistics--list--label\").text\n",
    "    data = field.find_element_by_class_name(\"statistics--list--data\").text\n",
    "    total.update({label: data})\n",
    "\n",
    "#function to get id and name from url  \n",
    "#splitting the player ul\n",
    "x=player_url.split('/')\n",
    "#splitting the sixth item (id+name)\n",
    "data=x[6].split('--')\n",
    "#defining id and name\n",
    "player_id=data[0]\n",
    "name=data[1]\n",
    "\n",
    "#getting the team name + team country from website\n",
    "team=driver.find_element_by_class_name(\"player-header_team-name\").text\n",
    "\n",
    "#new player object\n",
    "player = Player(player_id, name, team, total[\"GOALS\"], total[\"SAVES\"], total[\"OFFSIDES\"], total[\"MINUTES PLAYED\"], total[\"GOALS CONCEDED\"], total[\"PLAYED\"])\n",
    "\n",
    "\n",
    "driver.close()"
   ]
  }
 ],
 "metadata": {
  "kernelspec": {
   "display_name": "Python 3",
   "language": "python",
   "name": "python3"
  },
  "language_info": {
   "codemirror_mode": {
    "name": "ipython",
    "version": 3
   },
   "file_extension": ".py",
   "mimetype": "text/x-python",
   "name": "python",
   "nbconvert_exporter": "python",
   "pygments_lexer": "ipython3",
   "version": "3.7.5"
  }
 },
 "nbformat": 4,
 "nbformat_minor": 4
}
