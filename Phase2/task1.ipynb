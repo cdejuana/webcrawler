{
 "cells": [
  {
   "cell_type": "code",
   "execution_count": 28,
   "metadata": {},
   "outputs": [
    {
     "name": "stdout",
     "output_type": "stream",
     "text": [
      "obj.__class__ = <class '__main__.Player'>\n",
      "obj.__delattr__ = <method-wrapper '__delattr__' of Player object at 0x7f1a0557b510>\n",
      "obj.__dict__ = {'id': '250012069', 'name': 'jan-oblak', 'team': 'Atlético (ESP)', 'goals': '0', 'saves': '23', 'offsides': '0', 'minutesPlayed': '750', 'goalsConceded': '7', 'played': '8'}\n",
      "obj.__dir__ = <built-in method __dir__ of Player object at 0x7f1a0557b510>\n",
      "obj.__doc__ = None\n",
      "obj.__eq__ = <method-wrapper '__eq__' of Player object at 0x7f1a0557b510>\n",
      "obj.__format__ = <built-in method __format__ of Player object at 0x7f1a0557b510>\n",
      "obj.__ge__ = <method-wrapper '__ge__' of Player object at 0x7f1a0557b510>\n",
      "obj.__getattribute__ = <method-wrapper '__getattribute__' of Player object at 0x7f1a0557b510>\n",
      "obj.__gt__ = <method-wrapper '__gt__' of Player object at 0x7f1a0557b510>\n",
      "obj.__hash__ = <method-wrapper '__hash__' of Player object at 0x7f1a0557b510>\n",
      "obj.__init__ = <bound method Player.__init__ of <__main__.Player object at 0x7f1a0557b510>>\n",
      "obj.__init_subclass__ = <built-in method __init_subclass__ of type object at 0x2235140>\n",
      "obj.__le__ = <method-wrapper '__le__' of Player object at 0x7f1a0557b510>\n",
      "obj.__lt__ = <method-wrapper '__lt__' of Player object at 0x7f1a0557b510>\n",
      "obj.__module__ = __main__\n",
      "obj.__ne__ = <method-wrapper '__ne__' of Player object at 0x7f1a0557b510>\n",
      "obj.__new__ = <built-in method __new__ of type object at 0x8583a0>\n",
      "obj.__reduce__ = <built-in method __reduce__ of Player object at 0x7f1a0557b510>\n",
      "obj.__reduce_ex__ = <built-in method __reduce_ex__ of Player object at 0x7f1a0557b510>\n",
      "obj.__repr__ = <method-wrapper '__repr__' of Player object at 0x7f1a0557b510>\n",
      "obj.__setattr__ = <method-wrapper '__setattr__' of Player object at 0x7f1a0557b510>\n",
      "obj.__sizeof__ = <built-in method __sizeof__ of Player object at 0x7f1a0557b510>\n",
      "obj.__str__ = <method-wrapper '__str__' of Player object at 0x7f1a0557b510>\n",
      "obj.__subclasshook__ = <built-in method __subclasshook__ of type object at 0x2235140>\n",
      "obj.__weakref__ = None\n",
      "obj.goals = 0\n",
      "obj.goalsConceded = 7\n",
      "obj.id = 250012069\n",
      "obj.minutesPlayed = 750\n",
      "obj.name = jan-oblak\n",
      "obj.offsides = 0\n",
      "obj.played = 8\n",
      "obj.saves = 23\n",
      "obj.team = Atlético (ESP)\n"
     ]
    }
   ],
   "source": [
    "from selenium.webdriver import Chrome\n",
    "\n",
    "driver = Chrome()\n",
    "\n",
    "player_url=\"https://www.uefa.com/uefachampionsleague/clubs/players/250012069--jan-oblak/\"\n",
    "\n",
    "driver.get(player_url)\n",
    "\n",
    "#new empty dictionary for values of player\n",
    "total = {}\n",
    "statisticsListBlock = driver.find_element_by_class_name(\"player--statistics--list\")\n",
    "fields = statisticsListBlock.find_elements_by_css_selector(\".player--statistics--list .field\")\n",
    "used=[]\n",
    "\n",
    "#player class\n",
    "class Player(object):\n",
    "    def __init__(self, id, name, team, goals, saves, offsides, minutesPlayed, goalsConceded, played):\n",
    "        self.id=id\n",
    "        self.name=name\n",
    "        self.team=team\n",
    "        self.goals=goals\n",
    "        self.saves=saves\n",
    "        self.offsides=offsides\n",
    "        self.minutesPlayed=minutesPlayed\n",
    "        self.goalsConceded=goalsConceded\n",
    "        self.played=played\n",
    "        \n",
    "#moving the values from one array to dictionary for easier work\n",
    "for field in fields:\n",
    "    label = field.find_element_by_class_name(\"statistics--list--label\").text\n",
    "    data = field.find_element_by_class_name(\"statistics--list--data\").text\n",
    "    total.update({label: data})\n",
    "\n",
    "#function to get id and name from url  \n",
    "#splitting the player ul\n",
    "x=player_url.split('/')\n",
    "#splitting the sixth item (id+name)\n",
    "data=x[6].split('--')\n",
    "#defining id and name\n",
    "player_id=data[0]\n",
    "name=data[1]\n",
    "\n",
    "#getting the team name + team country from website\n",
    "team=driver.find_element_by_class_name(\"player-header_team-name\").text\n",
    "\n",
    "#new player object\n",
    "player = Player(player_id, name, team, total[\"GOALS\"], total[\"SAVES\"], total[\"OFFSIDES\"], total[\"MINUTES PLAYED\"], total[\"GOALS CONCEDED\"], total[\"PLAYED\"])\n",
    "\n",
    "\n",
    "driver.close()"
   ]
  },
  {
   "cell_type": "code",
   "execution_count": null,
   "metadata": {},
   "outputs": [],
   "source": []
  },
  {
   "cell_type": "code",
   "execution_count": null,
   "metadata": {},
   "outputs": [],
   "source": []
  }
 ],
 "metadata": {
  "kernelspec": {
   "display_name": "Python 3",
   "language": "python",
   "name": "python3"
  },
  "language_info": {
   "codemirror_mode": {
    "name": "ipython",
    "version": 3
   },
   "file_extension": ".py",
   "mimetype": "text/x-python",
   "name": "python",
   "nbconvert_exporter": "python",
   "pygments_lexer": "ipython3",
   "version": "3.7.5"
  }
 },
 "nbformat": 4,
 "nbformat_minor": 2
}
